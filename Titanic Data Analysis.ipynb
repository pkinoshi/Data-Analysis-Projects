{
 "cells": [
  {
   "cell_type": "markdown",
   "metadata": {},
   "source": [
    "### Introduction"
   ]
  },
  {
   "cell_type": "markdown",
   "metadata": {},
   "source": [
    "<p>This is my first documented project on Data Analysis and i will be working on the famous Titanic Dataset.\n",
    "I'll be looking at characteristics of a sample of the passengers on the Titanic, including whether they survived or not, gender, age, parents and children, siblings/spouses, fare(cost of ticket), embarkation port.</p>"
   ]
  },
  {
   "cell_type": "markdown",
   "metadata": {},
   "source": [
    "After looking at the contents of the dataset, i thought i should look into the following questions:<br><br>\n",
    "<li>Which gender had a better chance of survival?</li>\n",
    "<li>Which social class had a better chance of survial?</li>\n",
    "<li>Which age group had a better chance of survival?</li>"
   ]
  },
  {
   "cell_type": "markdown",
   "metadata": {},
   "source": [
    "### Setting up the report"
   ]
  },
  {
   "cell_type": "markdown",
   "metadata": {},
   "source": [
    "In order to analyse and report on the data, i have chosen to use the Ipython Notebook(ipynb), along with other python modules\n",
    "such as numpy, pandas, matplotlib, seaborn and many others."
   ]
  },
  {
   "cell_type": "code",
   "execution_count": 68,
   "metadata": {
    "scrolled": true
   },
   "outputs": [
    {
     "name": "stdout",
     "output_type": "stream",
     "text": [
      "Populating the interactive namespace from numpy and matplotlib\n"
     ]
    },
    {
     "name": "stderr",
     "output_type": "stream",
     "text": [
      "C:\\ProgramData\\Anaconda3\\lib\\site-packages\\IPython\\core\\magics\\pylab.py:160: UserWarning: pylab import has clobbered these variables: ['table']\n",
      "`%matplotlib` prevents importing * from pylab and numpy\n",
      "  \"\\n`%matplotlib` prevents importing * from pylab and numpy\"\n"
     ]
    }
   ],
   "source": [
    "#Importing modules for this project\n",
    "import numpy as np\n",
    "import pandas as pd\n",
    "import matplotlib.pyplot as plt\n",
    "import seaborn as sns\n",
    "import ipy_table as tbl\n",
    "from numbers import Number\n",
    "from scipy import stats\n",
    "%pylab inline"
   ]
  },
  {
   "cell_type": "markdown",
   "metadata": {},
   "source": [
    "### Reading our dataset in CSV format"
   ]
  },
  {
   "cell_type": "code",
   "execution_count": 69,
   "metadata": {},
   "outputs": [],
   "source": [
    "#Read our data into a dataframe and assign it to titanic_df variable\n",
    "titanic_df = pd.read_csv(\"titanic.csv\")"
   ]
  },
  {
   "cell_type": "code",
   "execution_count": 70,
   "metadata": {},
   "outputs": [
    {
     "data": {
      "text/html": [
       "<div>\n",
       "<style scoped>\n",
       "    .dataframe tbody tr th:only-of-type {\n",
       "        vertical-align: middle;\n",
       "    }\n",
       "\n",
       "    .dataframe tbody tr th {\n",
       "        vertical-align: top;\n",
       "    }\n",
       "\n",
       "    .dataframe thead th {\n",
       "        text-align: right;\n",
       "    }\n",
       "</style>\n",
       "<table border=\"1\" class=\"dataframe\">\n",
       "  <thead>\n",
       "    <tr style=\"text-align: right;\">\n",
       "      <th></th>\n",
       "      <th>pclass</th>\n",
       "      <th>survived</th>\n",
       "      <th>name</th>\n",
       "      <th>sex</th>\n",
       "      <th>age</th>\n",
       "      <th>sibsp</th>\n",
       "      <th>parch</th>\n",
       "      <th>ticket</th>\n",
       "      <th>fare</th>\n",
       "      <th>cabin</th>\n",
       "      <th>embarked</th>\n",
       "      <th>boat</th>\n",
       "      <th>body</th>\n",
       "      <th>home.dest</th>\n",
       "    </tr>\n",
       "  </thead>\n",
       "  <tbody>\n",
       "    <tr>\n",
       "      <th>0</th>\n",
       "      <td>1.0</td>\n",
       "      <td>1.0</td>\n",
       "      <td>Allen, Miss. Elisabeth Walton</td>\n",
       "      <td>female</td>\n",
       "      <td>29.0000</td>\n",
       "      <td>0.0</td>\n",
       "      <td>0.0</td>\n",
       "      <td>24160</td>\n",
       "      <td>211.3375</td>\n",
       "      <td>B5</td>\n",
       "      <td>S</td>\n",
       "      <td>2</td>\n",
       "      <td>NaN</td>\n",
       "      <td>St Louis, MO</td>\n",
       "    </tr>\n",
       "    <tr>\n",
       "      <th>1</th>\n",
       "      <td>1.0</td>\n",
       "      <td>1.0</td>\n",
       "      <td>Allison, Master. Hudson Trevor</td>\n",
       "      <td>male</td>\n",
       "      <td>0.9167</td>\n",
       "      <td>1.0</td>\n",
       "      <td>2.0</td>\n",
       "      <td>113781</td>\n",
       "      <td>151.5500</td>\n",
       "      <td>C22 C26</td>\n",
       "      <td>S</td>\n",
       "      <td>11</td>\n",
       "      <td>NaN</td>\n",
       "      <td>Montreal, PQ / Chesterville, ON</td>\n",
       "    </tr>\n",
       "    <tr>\n",
       "      <th>2</th>\n",
       "      <td>1.0</td>\n",
       "      <td>0.0</td>\n",
       "      <td>Allison, Miss. Helen Loraine</td>\n",
       "      <td>female</td>\n",
       "      <td>2.0000</td>\n",
       "      <td>1.0</td>\n",
       "      <td>2.0</td>\n",
       "      <td>113781</td>\n",
       "      <td>151.5500</td>\n",
       "      <td>C22 C26</td>\n",
       "      <td>S</td>\n",
       "      <td>NaN</td>\n",
       "      <td>NaN</td>\n",
       "      <td>Montreal, PQ / Chesterville, ON</td>\n",
       "    </tr>\n",
       "    <tr>\n",
       "      <th>3</th>\n",
       "      <td>1.0</td>\n",
       "      <td>0.0</td>\n",
       "      <td>Allison, Mr. Hudson Joshua Creighton</td>\n",
       "      <td>male</td>\n",
       "      <td>30.0000</td>\n",
       "      <td>1.0</td>\n",
       "      <td>2.0</td>\n",
       "      <td>113781</td>\n",
       "      <td>151.5500</td>\n",
       "      <td>C22 C26</td>\n",
       "      <td>S</td>\n",
       "      <td>NaN</td>\n",
       "      <td>135.0</td>\n",
       "      <td>Montreal, PQ / Chesterville, ON</td>\n",
       "    </tr>\n",
       "    <tr>\n",
       "      <th>4</th>\n",
       "      <td>1.0</td>\n",
       "      <td>0.0</td>\n",
       "      <td>Allison, Mrs. Hudson J C (Bessie Waldo Daniels)</td>\n",
       "      <td>female</td>\n",
       "      <td>25.0000</td>\n",
       "      <td>1.0</td>\n",
       "      <td>2.0</td>\n",
       "      <td>113781</td>\n",
       "      <td>151.5500</td>\n",
       "      <td>C22 C26</td>\n",
       "      <td>S</td>\n",
       "      <td>NaN</td>\n",
       "      <td>NaN</td>\n",
       "      <td>Montreal, PQ / Chesterville, ON</td>\n",
       "    </tr>\n",
       "  </tbody>\n",
       "</table>\n",
       "</div>"
      ],
      "text/plain": [
       "   pclass  survived                                             name     sex  \\\n",
       "0     1.0       1.0                    Allen, Miss. Elisabeth Walton  female   \n",
       "1     1.0       1.0                   Allison, Master. Hudson Trevor    male   \n",
       "2     1.0       0.0                     Allison, Miss. Helen Loraine  female   \n",
       "3     1.0       0.0             Allison, Mr. Hudson Joshua Creighton    male   \n",
       "4     1.0       0.0  Allison, Mrs. Hudson J C (Bessie Waldo Daniels)  female   \n",
       "\n",
       "       age  sibsp  parch  ticket      fare    cabin embarked boat   body  \\\n",
       "0  29.0000    0.0    0.0   24160  211.3375       B5        S    2    NaN   \n",
       "1   0.9167    1.0    2.0  113781  151.5500  C22 C26        S   11    NaN   \n",
       "2   2.0000    1.0    2.0  113781  151.5500  C22 C26        S  NaN    NaN   \n",
       "3  30.0000    1.0    2.0  113781  151.5500  C22 C26        S  NaN  135.0   \n",
       "4  25.0000    1.0    2.0  113781  151.5500  C22 C26        S  NaN    NaN   \n",
       "\n",
       "                         home.dest  \n",
       "0                     St Louis, MO  \n",
       "1  Montreal, PQ / Chesterville, ON  \n",
       "2  Montreal, PQ / Chesterville, ON  \n",
       "3  Montreal, PQ / Chesterville, ON  \n",
       "4  Montreal, PQ / Chesterville, ON  "
      ]
     },
     "execution_count": 70,
     "metadata": {},
     "output_type": "execute_result"
    }
   ],
   "source": [
    "#Catching a glimpse into our dataframe\n",
    "titanic_df.head()"
   ]
  },
  {
   "cell_type": "markdown",
   "metadata": {},
   "source": [
    "### Data Cleaning/Wrangling"
   ]
  },
  {
   "cell_type": "code",
   "execution_count": 71,
   "metadata": {},
   "outputs": [
    {
     "name": "stdout",
     "output_type": "stream",
     "text": [
      "<class 'pandas.core.frame.DataFrame'>\n",
      "RangeIndex: 1310 entries, 0 to 1309\n",
      "Data columns (total 14 columns):\n",
      " #   Column     Non-Null Count  Dtype  \n",
      "---  ------     --------------  -----  \n",
      " 0   pclass     1309 non-null   float64\n",
      " 1   survived   1309 non-null   float64\n",
      " 2   name       1309 non-null   object \n",
      " 3   sex        1309 non-null   object \n",
      " 4   age        1046 non-null   float64\n",
      " 5   sibsp      1309 non-null   float64\n",
      " 6   parch      1309 non-null   float64\n",
      " 7   ticket     1309 non-null   object \n",
      " 8   fare       1308 non-null   float64\n",
      " 9   cabin      295 non-null    object \n",
      " 10  embarked   1307 non-null   object \n",
      " 11  boat       486 non-null    object \n",
      " 12  body       121 non-null    float64\n",
      " 13  home.dest  745 non-null    object \n",
      "dtypes: float64(7), object(7)\n",
      "memory usage: 143.4+ KB\n"
     ]
    }
   ],
   "source": [
    "#printing out information about the data\n",
    "titanic_df.info()"
   ]
  },
  {
   "cell_type": "code",
   "execution_count": 72,
   "metadata": {},
   "outputs": [
    {
     "data": {
      "text/plain": [
       "(1310, 14)"
      ]
     },
     "execution_count": 72,
     "metadata": {},
     "output_type": "execute_result"
    }
   ],
   "source": [
    "titanic_df.shape"
   ]
  },
  {
   "cell_type": "code",
   "execution_count": 73,
   "metadata": {},
   "outputs": [
    {
     "name": "stdout",
     "output_type": "stream",
     "text": [
      "<class 'pandas.core.frame.DataFrame'>\n",
      "RangeIndex: 1310 entries, 0 to 1309\n",
      "Data columns (total 14 columns):\n",
      " #   Column     Non-Null Count  Dtype  \n",
      "---  ------     --------------  -----  \n",
      " 0   pclass     1309 non-null   float64\n",
      " 1   survived   1309 non-null   float64\n",
      " 2   name       1309 non-null   object \n",
      " 3   sex        1309 non-null   object \n",
      " 4   age        1046 non-null   float64\n",
      " 5   sibsp      1309 non-null   float64\n",
      " 6   parch      1309 non-null   float64\n",
      " 7   ticket     1309 non-null   object \n",
      " 8   fare       1308 non-null   float64\n",
      " 9   cabin      295 non-null    object \n",
      " 10  embarked   1307 non-null   object \n",
      " 11  boat       486 non-null    object \n",
      " 12  body       121 non-null    float64\n",
      " 13  home.dest  745 non-null    object \n",
      "dtypes: float64(7), object(7)\n",
      "memory usage: 143.4+ KB\n"
     ]
    }
   ],
   "source": [
    "titanic_df.info()"
   ]
  },
  {
   "cell_type": "code",
   "execution_count": 74,
   "metadata": {},
   "outputs": [
    {
     "data": {
      "text/html": [
       "<div>\n",
       "<style scoped>\n",
       "    .dataframe tbody tr th:only-of-type {\n",
       "        vertical-align: middle;\n",
       "    }\n",
       "\n",
       "    .dataframe tbody tr th {\n",
       "        vertical-align: top;\n",
       "    }\n",
       "\n",
       "    .dataframe thead th {\n",
       "        text-align: right;\n",
       "    }\n",
       "</style>\n",
       "<table border=\"1\" class=\"dataframe\">\n",
       "  <thead>\n",
       "    <tr style=\"text-align: right;\">\n",
       "      <th></th>\n",
       "      <th>pclass</th>\n",
       "      <th>survived</th>\n",
       "      <th>name</th>\n",
       "      <th>sex</th>\n",
       "      <th>age</th>\n",
       "      <th>sibsp</th>\n",
       "      <th>parch</th>\n",
       "      <th>ticket</th>\n",
       "      <th>fare</th>\n",
       "      <th>cabin</th>\n",
       "      <th>embarked</th>\n",
       "      <th>boat</th>\n",
       "      <th>body</th>\n",
       "      <th>home.dest</th>\n",
       "    </tr>\n",
       "  </thead>\n",
       "  <tbody>\n",
       "    <tr>\n",
       "      <th>0</th>\n",
       "      <td>1.0</td>\n",
       "      <td>1.0</td>\n",
       "      <td>Allen, Miss. Elisabeth Walton</td>\n",
       "      <td>female</td>\n",
       "      <td>29.0000</td>\n",
       "      <td>0.0</td>\n",
       "      <td>0.0</td>\n",
       "      <td>24160</td>\n",
       "      <td>211.3375</td>\n",
       "      <td>B5</td>\n",
       "      <td>S</td>\n",
       "      <td>2</td>\n",
       "      <td>NaN</td>\n",
       "      <td>St Louis, MO</td>\n",
       "    </tr>\n",
       "    <tr>\n",
       "      <th>1</th>\n",
       "      <td>1.0</td>\n",
       "      <td>1.0</td>\n",
       "      <td>Allison, Master. Hudson Trevor</td>\n",
       "      <td>male</td>\n",
       "      <td>0.9167</td>\n",
       "      <td>1.0</td>\n",
       "      <td>2.0</td>\n",
       "      <td>113781</td>\n",
       "      <td>151.5500</td>\n",
       "      <td>C22 C26</td>\n",
       "      <td>S</td>\n",
       "      <td>11</td>\n",
       "      <td>NaN</td>\n",
       "      <td>Montreal, PQ / Chesterville, ON</td>\n",
       "    </tr>\n",
       "    <tr>\n",
       "      <th>2</th>\n",
       "      <td>1.0</td>\n",
       "      <td>0.0</td>\n",
       "      <td>Allison, Miss. Helen Loraine</td>\n",
       "      <td>female</td>\n",
       "      <td>2.0000</td>\n",
       "      <td>1.0</td>\n",
       "      <td>2.0</td>\n",
       "      <td>113781</td>\n",
       "      <td>151.5500</td>\n",
       "      <td>C22 C26</td>\n",
       "      <td>S</td>\n",
       "      <td>NaN</td>\n",
       "      <td>NaN</td>\n",
       "      <td>Montreal, PQ / Chesterville, ON</td>\n",
       "    </tr>\n",
       "    <tr>\n",
       "      <th>3</th>\n",
       "      <td>1.0</td>\n",
       "      <td>0.0</td>\n",
       "      <td>Allison, Mr. Hudson Joshua Creighton</td>\n",
       "      <td>male</td>\n",
       "      <td>30.0000</td>\n",
       "      <td>1.0</td>\n",
       "      <td>2.0</td>\n",
       "      <td>113781</td>\n",
       "      <td>151.5500</td>\n",
       "      <td>C22 C26</td>\n",
       "      <td>S</td>\n",
       "      <td>NaN</td>\n",
       "      <td>135.0</td>\n",
       "      <td>Montreal, PQ / Chesterville, ON</td>\n",
       "    </tr>\n",
       "    <tr>\n",
       "      <th>4</th>\n",
       "      <td>1.0</td>\n",
       "      <td>0.0</td>\n",
       "      <td>Allison, Mrs. Hudson J C (Bessie Waldo Daniels)</td>\n",
       "      <td>female</td>\n",
       "      <td>25.0000</td>\n",
       "      <td>1.0</td>\n",
       "      <td>2.0</td>\n",
       "      <td>113781</td>\n",
       "      <td>151.5500</td>\n",
       "      <td>C22 C26</td>\n",
       "      <td>S</td>\n",
       "      <td>NaN</td>\n",
       "      <td>NaN</td>\n",
       "      <td>Montreal, PQ / Chesterville, ON</td>\n",
       "    </tr>\n",
       "    <tr>\n",
       "      <th>5</th>\n",
       "      <td>1.0</td>\n",
       "      <td>1.0</td>\n",
       "      <td>Anderson, Mr. Harry</td>\n",
       "      <td>male</td>\n",
       "      <td>48.0000</td>\n",
       "      <td>0.0</td>\n",
       "      <td>0.0</td>\n",
       "      <td>19952</td>\n",
       "      <td>26.5500</td>\n",
       "      <td>E12</td>\n",
       "      <td>S</td>\n",
       "      <td>3</td>\n",
       "      <td>NaN</td>\n",
       "      <td>New York, NY</td>\n",
       "    </tr>\n",
       "  </tbody>\n",
       "</table>\n",
       "</div>"
      ],
      "text/plain": [
       "   pclass  survived                                             name     sex  \\\n",
       "0     1.0       1.0                    Allen, Miss. Elisabeth Walton  female   \n",
       "1     1.0       1.0                   Allison, Master. Hudson Trevor    male   \n",
       "2     1.0       0.0                     Allison, Miss. Helen Loraine  female   \n",
       "3     1.0       0.0             Allison, Mr. Hudson Joshua Creighton    male   \n",
       "4     1.0       0.0  Allison, Mrs. Hudson J C (Bessie Waldo Daniels)  female   \n",
       "5     1.0       1.0                              Anderson, Mr. Harry    male   \n",
       "\n",
       "       age  sibsp  parch  ticket      fare    cabin embarked boat   body  \\\n",
       "0  29.0000    0.0    0.0   24160  211.3375       B5        S    2    NaN   \n",
       "1   0.9167    1.0    2.0  113781  151.5500  C22 C26        S   11    NaN   \n",
       "2   2.0000    1.0    2.0  113781  151.5500  C22 C26        S  NaN    NaN   \n",
       "3  30.0000    1.0    2.0  113781  151.5500  C22 C26        S  NaN  135.0   \n",
       "4  25.0000    1.0    2.0  113781  151.5500  C22 C26        S  NaN    NaN   \n",
       "5  48.0000    0.0    0.0   19952   26.5500      E12        S    3    NaN   \n",
       "\n",
       "                         home.dest  \n",
       "0                     St Louis, MO  \n",
       "1  Montreal, PQ / Chesterville, ON  \n",
       "2  Montreal, PQ / Chesterville, ON  \n",
       "3  Montreal, PQ / Chesterville, ON  \n",
       "4  Montreal, PQ / Chesterville, ON  \n",
       "5                     New York, NY  "
      ]
     },
     "execution_count": 74,
     "metadata": {},
     "output_type": "execute_result"
    }
   ],
   "source": [
    "titanic_df.head(6)"
   ]
  },
  {
   "cell_type": "code",
   "execution_count": 75,
   "metadata": {
    "scrolled": true
   },
   "outputs": [
    {
     "data": {
      "text/html": [
       "<div>\n",
       "<style scoped>\n",
       "    .dataframe tbody tr th:only-of-type {\n",
       "        vertical-align: middle;\n",
       "    }\n",
       "\n",
       "    .dataframe tbody tr th {\n",
       "        vertical-align: top;\n",
       "    }\n",
       "\n",
       "    .dataframe thead th {\n",
       "        text-align: right;\n",
       "    }\n",
       "</style>\n",
       "<table border=\"1\" class=\"dataframe\">\n",
       "  <thead>\n",
       "    <tr style=\"text-align: right;\">\n",
       "      <th></th>\n",
       "      <th>pclass</th>\n",
       "      <th>survived</th>\n",
       "      <th>name</th>\n",
       "      <th>sex</th>\n",
       "      <th>age</th>\n",
       "      <th>sibsp</th>\n",
       "      <th>parch</th>\n",
       "      <th>ticket</th>\n",
       "      <th>fare</th>\n",
       "      <th>cabin</th>\n",
       "      <th>embarked</th>\n",
       "      <th>boat</th>\n",
       "      <th>body</th>\n",
       "      <th>home.dest</th>\n",
       "    </tr>\n",
       "  </thead>\n",
       "  <tbody>\n",
       "    <tr>\n",
       "      <th>1304</th>\n",
       "      <td>3.0</td>\n",
       "      <td>0.0</td>\n",
       "      <td>Zabour, Miss. Hileni</td>\n",
       "      <td>female</td>\n",
       "      <td>14.5</td>\n",
       "      <td>1.0</td>\n",
       "      <td>0.0</td>\n",
       "      <td>2665</td>\n",
       "      <td>14.4542</td>\n",
       "      <td>NaN</td>\n",
       "      <td>C</td>\n",
       "      <td>NaN</td>\n",
       "      <td>328.0</td>\n",
       "      <td>NaN</td>\n",
       "    </tr>\n",
       "    <tr>\n",
       "      <th>1305</th>\n",
       "      <td>3.0</td>\n",
       "      <td>0.0</td>\n",
       "      <td>Zabour, Miss. Thamine</td>\n",
       "      <td>female</td>\n",
       "      <td>NaN</td>\n",
       "      <td>1.0</td>\n",
       "      <td>0.0</td>\n",
       "      <td>2665</td>\n",
       "      <td>14.4542</td>\n",
       "      <td>NaN</td>\n",
       "      <td>C</td>\n",
       "      <td>NaN</td>\n",
       "      <td>NaN</td>\n",
       "      <td>NaN</td>\n",
       "    </tr>\n",
       "    <tr>\n",
       "      <th>1306</th>\n",
       "      <td>3.0</td>\n",
       "      <td>0.0</td>\n",
       "      <td>Zakarian, Mr. Mapriededer</td>\n",
       "      <td>male</td>\n",
       "      <td>26.5</td>\n",
       "      <td>0.0</td>\n",
       "      <td>0.0</td>\n",
       "      <td>2656</td>\n",
       "      <td>7.2250</td>\n",
       "      <td>NaN</td>\n",
       "      <td>C</td>\n",
       "      <td>NaN</td>\n",
       "      <td>304.0</td>\n",
       "      <td>NaN</td>\n",
       "    </tr>\n",
       "    <tr>\n",
       "      <th>1307</th>\n",
       "      <td>3.0</td>\n",
       "      <td>0.0</td>\n",
       "      <td>Zakarian, Mr. Ortin</td>\n",
       "      <td>male</td>\n",
       "      <td>27.0</td>\n",
       "      <td>0.0</td>\n",
       "      <td>0.0</td>\n",
       "      <td>2670</td>\n",
       "      <td>7.2250</td>\n",
       "      <td>NaN</td>\n",
       "      <td>C</td>\n",
       "      <td>NaN</td>\n",
       "      <td>NaN</td>\n",
       "      <td>NaN</td>\n",
       "    </tr>\n",
       "    <tr>\n",
       "      <th>1308</th>\n",
       "      <td>3.0</td>\n",
       "      <td>0.0</td>\n",
       "      <td>Zimmerman, Mr. Leo</td>\n",
       "      <td>male</td>\n",
       "      <td>29.0</td>\n",
       "      <td>0.0</td>\n",
       "      <td>0.0</td>\n",
       "      <td>315082</td>\n",
       "      <td>7.8750</td>\n",
       "      <td>NaN</td>\n",
       "      <td>S</td>\n",
       "      <td>NaN</td>\n",
       "      <td>NaN</td>\n",
       "      <td>NaN</td>\n",
       "    </tr>\n",
       "    <tr>\n",
       "      <th>1309</th>\n",
       "      <td>NaN</td>\n",
       "      <td>NaN</td>\n",
       "      <td>NaN</td>\n",
       "      <td>NaN</td>\n",
       "      <td>NaN</td>\n",
       "      <td>NaN</td>\n",
       "      <td>NaN</td>\n",
       "      <td>NaN</td>\n",
       "      <td>NaN</td>\n",
       "      <td>NaN</td>\n",
       "      <td>NaN</td>\n",
       "      <td>NaN</td>\n",
       "      <td>NaN</td>\n",
       "      <td>NaN</td>\n",
       "    </tr>\n",
       "  </tbody>\n",
       "</table>\n",
       "</div>"
      ],
      "text/plain": [
       "      pclass  survived                       name     sex   age  sibsp  parch  \\\n",
       "1304     3.0       0.0       Zabour, Miss. Hileni  female  14.5    1.0    0.0   \n",
       "1305     3.0       0.0      Zabour, Miss. Thamine  female   NaN    1.0    0.0   \n",
       "1306     3.0       0.0  Zakarian, Mr. Mapriededer    male  26.5    0.0    0.0   \n",
       "1307     3.0       0.0        Zakarian, Mr. Ortin    male  27.0    0.0    0.0   \n",
       "1308     3.0       0.0         Zimmerman, Mr. Leo    male  29.0    0.0    0.0   \n",
       "1309     NaN       NaN                        NaN     NaN   NaN    NaN    NaN   \n",
       "\n",
       "      ticket     fare cabin embarked boat   body home.dest  \n",
       "1304    2665  14.4542   NaN        C  NaN  328.0       NaN  \n",
       "1305    2665  14.4542   NaN        C  NaN    NaN       NaN  \n",
       "1306    2656   7.2250   NaN        C  NaN  304.0       NaN  \n",
       "1307    2670   7.2250   NaN        C  NaN    NaN       NaN  \n",
       "1308  315082   7.8750   NaN        S  NaN    NaN       NaN  \n",
       "1309     NaN      NaN   NaN      NaN  NaN    NaN       NaN  "
      ]
     },
     "execution_count": 75,
     "metadata": {},
     "output_type": "execute_result"
    }
   ],
   "source": [
    "titanic_df.iloc[-6:] # titanic_df.tail(6) also works"
   ]
  },
  {
   "cell_type": "markdown",
   "metadata": {},
   "source": [
    "#### Dropping unwanted columns and rows"
   ]
  },
  {
   "cell_type": "markdown",
   "metadata": {},
   "source": [
    "In our data, there are columns that won't be useful in our analysis and so they'll be dropped. These columns includes cabin, boat, body, home.dest, ticket and name.\n",
    "It appears that the last row of the dataset(index 1309) has all its values as nan. We'll be dropping this row as it is irrelevant to our analysis"
   ]
  },
  {
   "cell_type": "code",
   "execution_count": 76,
   "metadata": {},
   "outputs": [],
   "source": [
    "titanic_df.drop(columns=['cabin','boat','body','home.dest','name','ticket'], inplace=True)"
   ]
  },
  {
   "cell_type": "code",
   "execution_count": 77,
   "metadata": {},
   "outputs": [],
   "source": [
    "titanic_df.drop(index=1309, inplace=True)"
   ]
  },
  {
   "cell_type": "markdown",
   "metadata": {},
   "source": [
    "#### Dealing with missing ages"
   ]
  },
  {
   "cell_type": "code",
   "execution_count": 78,
   "metadata": {},
   "outputs": [],
   "source": [
    "missing_ages = titanic_df[titanic_df['age'].isnull()]"
   ]
  },
  {
   "cell_type": "code",
   "execution_count": 79,
   "metadata": {},
   "outputs": [
    {
     "data": {
      "text/plain": [
       "263"
      ]
     },
     "execution_count": 79,
     "metadata": {},
     "output_type": "execute_result"
    }
   ],
   "source": [
    "titanic_df.age.isnull().sum()"
   ]
  },
  {
   "cell_type": "markdown",
   "metadata": {},
   "source": [
    "From the above cell, we have 264 ages unaccounted for. So we'll fill them using the mean of all the ages in the dataset"
   ]
  },
  {
   "cell_type": "code",
   "execution_count": 80,
   "metadata": {},
   "outputs": [],
   "source": [
    "#Filling missing ages with the mean of all the ages in the dataset.\n",
    "titanic_df.age.fillna(titanic_df.age.mean(), inplace=True)"
   ]
  },
  {
   "cell_type": "markdown",
   "metadata": {},
   "source": [
    "#### Filling the other missing data in the embarked column and the fare  column"
   ]
  },
  {
   "cell_type": "code",
   "execution_count": 81,
   "metadata": {},
   "outputs": [],
   "source": [
    "titanic_df['embarked'].fillna(method='ffill', inplace=True)\n",
    "titanic_df['fare'].fillna(titanic_df['fare'].mean(), inplace=True)"
   ]
  },
  {
   "cell_type": "code",
   "execution_count": 82,
   "metadata": {
    "scrolled": false
   },
   "outputs": [
    {
     "name": "stdout",
     "output_type": "stream",
     "text": [
      "<class 'pandas.core.frame.DataFrame'>\n",
      "Int64Index: 1309 entries, 0 to 1308\n",
      "Data columns (total 8 columns):\n",
      " #   Column    Non-Null Count  Dtype  \n",
      "---  ------    --------------  -----  \n",
      " 0   pclass    1309 non-null   float64\n",
      " 1   survived  1309 non-null   float64\n",
      " 2   sex       1309 non-null   object \n",
      " 3   age       1309 non-null   float64\n",
      " 4   sibsp     1309 non-null   float64\n",
      " 5   parch     1309 non-null   float64\n",
      " 6   fare      1309 non-null   float64\n",
      " 7   embarked  1309 non-null   object \n",
      "dtypes: float64(6), object(2)\n",
      "memory usage: 92.0+ KB\n"
     ]
    }
   ],
   "source": [
    "titanic_df.info()"
   ]
  },
  {
   "cell_type": "markdown",
   "metadata": {},
   "source": [
    "#### Changing the datatypes in the dataframe"
   ]
  },
  {
   "cell_type": "code",
   "execution_count": 83,
   "metadata": {},
   "outputs": [],
   "source": [
    "def convert(df):\n",
    "    '''converts dataframe columns to int'''\n",
    "    \n",
    "    df['parch'] = df['parch'].astype(int)\n",
    "    \n",
    "    df['sibsp'] = df['sibsp'].astype(int)\n",
    "    \n",
    "    df['survived'] = df['survived'].astype(int)\n",
    "    \n",
    "    df['pclass'] = df['pclass'].astype(int)    \n",
    "    \n",
    "    df['age'] = df['age'].astype(int)\n",
    "    \n",
    "    return df\n",
    "    \n",
    "titanic_df = convert(titanic_df)    "
   ]
  },
  {
   "cell_type": "code",
   "execution_count": 84,
   "metadata": {},
   "outputs": [
    {
     "data": {
      "text/html": [
       "<div>\n",
       "<style scoped>\n",
       "    .dataframe tbody tr th:only-of-type {\n",
       "        vertical-align: middle;\n",
       "    }\n",
       "\n",
       "    .dataframe tbody tr th {\n",
       "        vertical-align: top;\n",
       "    }\n",
       "\n",
       "    .dataframe thead th {\n",
       "        text-align: right;\n",
       "    }\n",
       "</style>\n",
       "<table border=\"1\" class=\"dataframe\">\n",
       "  <thead>\n",
       "    <tr style=\"text-align: right;\">\n",
       "      <th></th>\n",
       "      <th>pclass</th>\n",
       "      <th>survived</th>\n",
       "      <th>sex</th>\n",
       "      <th>age</th>\n",
       "      <th>sibsp</th>\n",
       "      <th>parch</th>\n",
       "      <th>fare</th>\n",
       "      <th>embarked</th>\n",
       "    </tr>\n",
       "  </thead>\n",
       "  <tbody>\n",
       "    <tr>\n",
       "      <th>0</th>\n",
       "      <td>1</td>\n",
       "      <td>1</td>\n",
       "      <td>female</td>\n",
       "      <td>29</td>\n",
       "      <td>0</td>\n",
       "      <td>0</td>\n",
       "      <td>211.3375</td>\n",
       "      <td>S</td>\n",
       "    </tr>\n",
       "    <tr>\n",
       "      <th>1</th>\n",
       "      <td>1</td>\n",
       "      <td>1</td>\n",
       "      <td>male</td>\n",
       "      <td>0</td>\n",
       "      <td>1</td>\n",
       "      <td>2</td>\n",
       "      <td>151.5500</td>\n",
       "      <td>S</td>\n",
       "    </tr>\n",
       "    <tr>\n",
       "      <th>2</th>\n",
       "      <td>1</td>\n",
       "      <td>0</td>\n",
       "      <td>female</td>\n",
       "      <td>2</td>\n",
       "      <td>1</td>\n",
       "      <td>2</td>\n",
       "      <td>151.5500</td>\n",
       "      <td>S</td>\n",
       "    </tr>\n",
       "    <tr>\n",
       "      <th>3</th>\n",
       "      <td>1</td>\n",
       "      <td>0</td>\n",
       "      <td>male</td>\n",
       "      <td>30</td>\n",
       "      <td>1</td>\n",
       "      <td>2</td>\n",
       "      <td>151.5500</td>\n",
       "      <td>S</td>\n",
       "    </tr>\n",
       "    <tr>\n",
       "      <th>4</th>\n",
       "      <td>1</td>\n",
       "      <td>0</td>\n",
       "      <td>female</td>\n",
       "      <td>25</td>\n",
       "      <td>1</td>\n",
       "      <td>2</td>\n",
       "      <td>151.5500</td>\n",
       "      <td>S</td>\n",
       "    </tr>\n",
       "    <tr>\n",
       "      <th>...</th>\n",
       "      <td>...</td>\n",
       "      <td>...</td>\n",
       "      <td>...</td>\n",
       "      <td>...</td>\n",
       "      <td>...</td>\n",
       "      <td>...</td>\n",
       "      <td>...</td>\n",
       "      <td>...</td>\n",
       "    </tr>\n",
       "    <tr>\n",
       "      <th>1304</th>\n",
       "      <td>3</td>\n",
       "      <td>0</td>\n",
       "      <td>female</td>\n",
       "      <td>14</td>\n",
       "      <td>1</td>\n",
       "      <td>0</td>\n",
       "      <td>14.4542</td>\n",
       "      <td>C</td>\n",
       "    </tr>\n",
       "    <tr>\n",
       "      <th>1305</th>\n",
       "      <td>3</td>\n",
       "      <td>0</td>\n",
       "      <td>female</td>\n",
       "      <td>29</td>\n",
       "      <td>1</td>\n",
       "      <td>0</td>\n",
       "      <td>14.4542</td>\n",
       "      <td>C</td>\n",
       "    </tr>\n",
       "    <tr>\n",
       "      <th>1306</th>\n",
       "      <td>3</td>\n",
       "      <td>0</td>\n",
       "      <td>male</td>\n",
       "      <td>26</td>\n",
       "      <td>0</td>\n",
       "      <td>0</td>\n",
       "      <td>7.2250</td>\n",
       "      <td>C</td>\n",
       "    </tr>\n",
       "    <tr>\n",
       "      <th>1307</th>\n",
       "      <td>3</td>\n",
       "      <td>0</td>\n",
       "      <td>male</td>\n",
       "      <td>27</td>\n",
       "      <td>0</td>\n",
       "      <td>0</td>\n",
       "      <td>7.2250</td>\n",
       "      <td>C</td>\n",
       "    </tr>\n",
       "    <tr>\n",
       "      <th>1308</th>\n",
       "      <td>3</td>\n",
       "      <td>0</td>\n",
       "      <td>male</td>\n",
       "      <td>29</td>\n",
       "      <td>0</td>\n",
       "      <td>0</td>\n",
       "      <td>7.8750</td>\n",
       "      <td>S</td>\n",
       "    </tr>\n",
       "  </tbody>\n",
       "</table>\n",
       "<p>1309 rows × 8 columns</p>\n",
       "</div>"
      ],
      "text/plain": [
       "      pclass  survived     sex  age  sibsp  parch      fare embarked\n",
       "0          1         1  female   29      0      0  211.3375        S\n",
       "1          1         1    male    0      1      2  151.5500        S\n",
       "2          1         0  female    2      1      2  151.5500        S\n",
       "3          1         0    male   30      1      2  151.5500        S\n",
       "4          1         0  female   25      1      2  151.5500        S\n",
       "...      ...       ...     ...  ...    ...    ...       ...      ...\n",
       "1304       3         0  female   14      1      0   14.4542        C\n",
       "1305       3         0  female   29      1      0   14.4542        C\n",
       "1306       3         0    male   26      0      0    7.2250        C\n",
       "1307       3         0    male   27      0      0    7.2250        C\n",
       "1308       3         0    male   29      0      0    7.8750        S\n",
       "\n",
       "[1309 rows x 8 columns]"
      ]
     },
     "execution_count": 84,
     "metadata": {},
     "output_type": "execute_result"
    }
   ],
   "source": [
    "titanic_df"
   ]
  },
  {
   "cell_type": "markdown",
   "metadata": {},
   "source": [
    "titanic_df['parch'] = titanic_df['parch'].astype(int)\n",
    "titanic_df['sibsp'] = titanic_df['sibsp'].astype(int)\n",
    "titanic_df['survived'] = titanic_df['survived'].astype(int)\n",
    "titanic_df['pclass'] = titanic_df['pclass'].astype(int)\n",
    "titanic_df['age'] = titanic_df['age'].astype(int)"
   ]
  },
  {
   "cell_type": "code",
   "execution_count": 85,
   "metadata": {},
   "outputs": [
    {
     "name": "stdout",
     "output_type": "stream",
     "text": [
      "<class 'pandas.core.frame.DataFrame'>\n",
      "Int64Index: 1309 entries, 0 to 1308\n",
      "Data columns (total 8 columns):\n",
      " #   Column    Non-Null Count  Dtype  \n",
      "---  ------    --------------  -----  \n",
      " 0   pclass    1309 non-null   int32  \n",
      " 1   survived  1309 non-null   int32  \n",
      " 2   sex       1309 non-null   object \n",
      " 3   age       1309 non-null   int32  \n",
      " 4   sibsp     1309 non-null   int32  \n",
      " 5   parch     1309 non-null   int32  \n",
      " 6   fare      1309 non-null   float64\n",
      " 7   embarked  1309 non-null   object \n",
      "dtypes: float64(1), int32(5), object(2)\n",
      "memory usage: 66.5+ KB\n"
     ]
    }
   ],
   "source": [
    "titanic_df.info()"
   ]
  },
  {
   "cell_type": "markdown",
   "metadata": {},
   "source": [
    "#### Dropping duplicates"
   ]
  },
  {
   "cell_type": "code",
   "execution_count": 86,
   "metadata": {},
   "outputs": [],
   "source": [
    "titanic_df = titanic_df.drop_duplicates()"
   ]
  },
  {
   "cell_type": "code",
   "execution_count": 87,
   "metadata": {},
   "outputs": [
    {
     "data": {
      "text/plain": [
       "(1106, 8)"
      ]
     },
     "execution_count": 87,
     "metadata": {},
     "output_type": "execute_result"
    }
   ],
   "source": [
    "titanic_df.shape"
   ]
  },
  {
   "cell_type": "code",
   "execution_count": 88,
   "metadata": {
    "scrolled": true
   },
   "outputs": [
    {
     "data": {
      "text/html": [
       "<div>\n",
       "<style scoped>\n",
       "    .dataframe tbody tr th:only-of-type {\n",
       "        vertical-align: middle;\n",
       "    }\n",
       "\n",
       "    .dataframe tbody tr th {\n",
       "        vertical-align: top;\n",
       "    }\n",
       "\n",
       "    .dataframe thead th {\n",
       "        text-align: right;\n",
       "    }\n",
       "</style>\n",
       "<table border=\"1\" class=\"dataframe\">\n",
       "  <thead>\n",
       "    <tr style=\"text-align: right;\">\n",
       "      <th></th>\n",
       "      <th>pclass</th>\n",
       "      <th>survived</th>\n",
       "      <th>sex</th>\n",
       "      <th>age</th>\n",
       "      <th>sibsp</th>\n",
       "      <th>parch</th>\n",
       "      <th>fare</th>\n",
       "      <th>embarked</th>\n",
       "    </tr>\n",
       "  </thead>\n",
       "  <tbody>\n",
       "    <tr>\n",
       "      <th>0</th>\n",
       "      <td>1</td>\n",
       "      <td>1</td>\n",
       "      <td>female</td>\n",
       "      <td>29</td>\n",
       "      <td>0</td>\n",
       "      <td>0</td>\n",
       "      <td>211.3375</td>\n",
       "      <td>S</td>\n",
       "    </tr>\n",
       "    <tr>\n",
       "      <th>1</th>\n",
       "      <td>1</td>\n",
       "      <td>1</td>\n",
       "      <td>male</td>\n",
       "      <td>0</td>\n",
       "      <td>1</td>\n",
       "      <td>2</td>\n",
       "      <td>151.5500</td>\n",
       "      <td>S</td>\n",
       "    </tr>\n",
       "    <tr>\n",
       "      <th>2</th>\n",
       "      <td>1</td>\n",
       "      <td>0</td>\n",
       "      <td>female</td>\n",
       "      <td>2</td>\n",
       "      <td>1</td>\n",
       "      <td>2</td>\n",
       "      <td>151.5500</td>\n",
       "      <td>S</td>\n",
       "    </tr>\n",
       "    <tr>\n",
       "      <th>3</th>\n",
       "      <td>1</td>\n",
       "      <td>0</td>\n",
       "      <td>male</td>\n",
       "      <td>30</td>\n",
       "      <td>1</td>\n",
       "      <td>2</td>\n",
       "      <td>151.5500</td>\n",
       "      <td>S</td>\n",
       "    </tr>\n",
       "    <tr>\n",
       "      <th>4</th>\n",
       "      <td>1</td>\n",
       "      <td>0</td>\n",
       "      <td>female</td>\n",
       "      <td>25</td>\n",
       "      <td>1</td>\n",
       "      <td>2</td>\n",
       "      <td>151.5500</td>\n",
       "      <td>S</td>\n",
       "    </tr>\n",
       "  </tbody>\n",
       "</table>\n",
       "</div>"
      ],
      "text/plain": [
       "   pclass  survived     sex  age  sibsp  parch      fare embarked\n",
       "0       1         1  female   29      0      0  211.3375        S\n",
       "1       1         1    male    0      1      2  151.5500        S\n",
       "2       1         0  female    2      1      2  151.5500        S\n",
       "3       1         0    male   30      1      2  151.5500        S\n",
       "4       1         0  female   25      1      2  151.5500        S"
      ]
     },
     "execution_count": 88,
     "metadata": {},
     "output_type": "execute_result"
    }
   ],
   "source": [
    "titanic_df.head()"
   ]
  },
  {
   "cell_type": "code",
   "execution_count": 89,
   "metadata": {
    "scrolled": true
   },
   "outputs": [
    {
     "name": "stdout",
     "output_type": "stream",
     "text": [
      "<class 'pandas.core.frame.DataFrame'>\n",
      "Int64Index: 1106 entries, 0 to 1308\n",
      "Data columns (total 8 columns):\n",
      " #   Column    Non-Null Count  Dtype  \n",
      "---  ------    --------------  -----  \n",
      " 0   pclass    1106 non-null   int32  \n",
      " 1   survived  1106 non-null   int32  \n",
      " 2   sex       1106 non-null   object \n",
      " 3   age       1106 non-null   int32  \n",
      " 4   sibsp     1106 non-null   int32  \n",
      " 5   parch     1106 non-null   int32  \n",
      " 6   fare      1106 non-null   float64\n",
      " 7   embarked  1106 non-null   object \n",
      "dtypes: float64(1), int32(5), object(2)\n",
      "memory usage: 56.2+ KB\n"
     ]
    }
   ],
   "source": [
    "titanic_df.info()"
   ]
  },
  {
   "cell_type": "markdown",
   "metadata": {},
   "source": [
    "#### Reordering the Columns"
   ]
  },
  {
   "cell_type": "code",
   "execution_count": 90,
   "metadata": {
    "scrolled": false
   },
   "outputs": [
    {
     "data": {
      "text/plain": [
       "Index(['pclass', 'survived', 'sex', 'age', 'sibsp', 'parch', 'fare',\n",
       "       'embarked'],\n",
       "      dtype='object')"
      ]
     },
     "execution_count": 90,
     "metadata": {},
     "output_type": "execute_result"
    }
   ],
   "source": [
    "titanic_df.columns"
   ]
  },
  {
   "cell_type": "code",
   "execution_count": 91,
   "metadata": {},
   "outputs": [],
   "source": [
    "titanic_df = titanic_df[[\"age\", \"sex\", \"fare\", \"sibsp\", \"survived\", \"pclass\", \"embarked\", \"parch\"]]"
   ]
  },
  {
   "cell_type": "code",
   "execution_count": 92,
   "metadata": {},
   "outputs": [
    {
     "data": {
      "text/html": [
       "<div>\n",
       "<style scoped>\n",
       "    .dataframe tbody tr th:only-of-type {\n",
       "        vertical-align: middle;\n",
       "    }\n",
       "\n",
       "    .dataframe tbody tr th {\n",
       "        vertical-align: top;\n",
       "    }\n",
       "\n",
       "    .dataframe thead th {\n",
       "        text-align: right;\n",
       "    }\n",
       "</style>\n",
       "<table border=\"1\" class=\"dataframe\">\n",
       "  <thead>\n",
       "    <tr style=\"text-align: right;\">\n",
       "      <th></th>\n",
       "      <th>age</th>\n",
       "      <th>sex</th>\n",
       "      <th>fare</th>\n",
       "      <th>sibsp</th>\n",
       "      <th>survived</th>\n",
       "      <th>pclass</th>\n",
       "      <th>embarked</th>\n",
       "      <th>parch</th>\n",
       "    </tr>\n",
       "  </thead>\n",
       "  <tbody>\n",
       "    <tr>\n",
       "      <th>0</th>\n",
       "      <td>29</td>\n",
       "      <td>female</td>\n",
       "      <td>211.3375</td>\n",
       "      <td>0</td>\n",
       "      <td>1</td>\n",
       "      <td>1</td>\n",
       "      <td>S</td>\n",
       "      <td>0</td>\n",
       "    </tr>\n",
       "    <tr>\n",
       "      <th>1</th>\n",
       "      <td>0</td>\n",
       "      <td>male</td>\n",
       "      <td>151.5500</td>\n",
       "      <td>1</td>\n",
       "      <td>1</td>\n",
       "      <td>1</td>\n",
       "      <td>S</td>\n",
       "      <td>2</td>\n",
       "    </tr>\n",
       "    <tr>\n",
       "      <th>2</th>\n",
       "      <td>2</td>\n",
       "      <td>female</td>\n",
       "      <td>151.5500</td>\n",
       "      <td>1</td>\n",
       "      <td>0</td>\n",
       "      <td>1</td>\n",
       "      <td>S</td>\n",
       "      <td>2</td>\n",
       "    </tr>\n",
       "    <tr>\n",
       "      <th>3</th>\n",
       "      <td>30</td>\n",
       "      <td>male</td>\n",
       "      <td>151.5500</td>\n",
       "      <td>1</td>\n",
       "      <td>0</td>\n",
       "      <td>1</td>\n",
       "      <td>S</td>\n",
       "      <td>2</td>\n",
       "    </tr>\n",
       "    <tr>\n",
       "      <th>4</th>\n",
       "      <td>25</td>\n",
       "      <td>female</td>\n",
       "      <td>151.5500</td>\n",
       "      <td>1</td>\n",
       "      <td>0</td>\n",
       "      <td>1</td>\n",
       "      <td>S</td>\n",
       "      <td>2</td>\n",
       "    </tr>\n",
       "  </tbody>\n",
       "</table>\n",
       "</div>"
      ],
      "text/plain": [
       "   age     sex      fare  sibsp  survived  pclass embarked  parch\n",
       "0   29  female  211.3375      0         1       1        S      0\n",
       "1    0    male  151.5500      1         1       1        S      2\n",
       "2    2  female  151.5500      1         0       1        S      2\n",
       "3   30    male  151.5500      1         0       1        S      2\n",
       "4   25  female  151.5500      1         0       1        S      2"
      ]
     },
     "execution_count": 92,
     "metadata": {},
     "output_type": "execute_result"
    }
   ],
   "source": [
    "titanic_df.head()"
   ]
  },
  {
   "cell_type": "code",
   "execution_count": 93,
   "metadata": {},
   "outputs": [
    {
     "data": {
      "text/plain": [
       "Index(['age', 'sex', 'fare', 'sibsp', 'survived', 'pclass', 'embarked',\n",
       "       'parch'],\n",
       "      dtype='object')"
      ]
     },
     "execution_count": 93,
     "metadata": {},
     "output_type": "execute_result"
    }
   ],
   "source": [
    "titanic_df.columns"
   ]
  },
  {
   "cell_type": "markdown",
   "metadata": {},
   "source": [
    "#### Mapping data(values to descriptions)"
   ]
  },
  {
   "cell_type": "markdown",
   "metadata": {},
   "source": [
    "In order to interprete the data easier, the following fields will be modeified as their data types are integers.<br><br>\n",
    "<li>survived- changed to boolean(1=True, 0=False)</li>\n",
    "<li>pclass- changed to socio-economic status(1=Upper Class, 2=Middle Class, 3=Lower Class)</li>\n",
    "<li>embarked- changed to name of embarkation port(C=Cherbourg, Q=Queenstown, S=Southampton)</li>\n",
    "\n",
    "A Family Size column will also be added so as to compare the size of families to the number of survivors."
   ]
  },
  {
   "cell_type": "code",
   "execution_count": 94,
   "metadata": {},
   "outputs": [
    {
     "data": {
      "text/plain": [
       "(1106, 8)"
      ]
     },
     "execution_count": 94,
     "metadata": {},
     "output_type": "execute_result"
    }
   ],
   "source": [
    "titanic_df.shape"
   ]
  },
  {
   "cell_type": "code",
   "execution_count": 95,
   "metadata": {},
   "outputs": [
    {
     "data": {
      "text/plain": [
       "S    775\n",
       "C    245\n",
       "Q     86\n",
       "Name: embarked, dtype: int64"
      ]
     },
     "execution_count": 95,
     "metadata": {},
     "output_type": "execute_result"
    }
   ],
   "source": [
    "titanic_df.embarked.value_counts()"
   ]
  },
  {
   "cell_type": "code",
   "execution_count": 96,
   "metadata": {},
   "outputs": [],
   "source": [
    "def map_data(df):\n",
    "    '''Function takes the original dataframe and returns a mapped/updated dataframe\n",
    "    '''\n",
    "    #survived map\n",
    "    survived_map = {0:False, 1:True}\n",
    "    df['survived'] = df['survived'].map(survived_map)\n",
    "    \n",
    "    #pclass map\n",
    "    pclass_map = {3:'Lower Class', 2:'Middle Class', 1:'Upper Class'}\n",
    "    df['pclass'] = df['pclass'].map(pclass_map)\n",
    "    \n",
    "    #embarked map\n",
    "    embarked_map = {'S':'Southampton', 'C':'Cherbourg', 'Q':'Queenstown'}\n",
    "    df['embarked'] = df['embarked'].map(embarked_map)\n",
    "    \n",
    "    # add new column (FamilySize) to dataframe -> sum of sibsp and parch\n",
    "    df['FamilySize'] = df['sibsp'] + df['parch']\n",
    "    \n",
    "    return df\n",
    "\n",
    "titanic_df = map_data(titanic_df)"
   ]
  },
  {
   "cell_type": "code",
   "execution_count": 97,
   "metadata": {},
   "outputs": [
    {
     "data": {
      "text/html": [
       "<div>\n",
       "<style scoped>\n",
       "    .dataframe tbody tr th:only-of-type {\n",
       "        vertical-align: middle;\n",
       "    }\n",
       "\n",
       "    .dataframe tbody tr th {\n",
       "        vertical-align: top;\n",
       "    }\n",
       "\n",
       "    .dataframe thead th {\n",
       "        text-align: right;\n",
       "    }\n",
       "</style>\n",
       "<table border=\"1\" class=\"dataframe\">\n",
       "  <thead>\n",
       "    <tr style=\"text-align: right;\">\n",
       "      <th></th>\n",
       "      <th>age</th>\n",
       "      <th>sex</th>\n",
       "      <th>fare</th>\n",
       "      <th>sibsp</th>\n",
       "      <th>survived</th>\n",
       "      <th>pclass</th>\n",
       "      <th>embarked</th>\n",
       "      <th>parch</th>\n",
       "      <th>FamilySize</th>\n",
       "    </tr>\n",
       "  </thead>\n",
       "  <tbody>\n",
       "    <tr>\n",
       "      <th>0</th>\n",
       "      <td>29</td>\n",
       "      <td>female</td>\n",
       "      <td>211.3375</td>\n",
       "      <td>0</td>\n",
       "      <td>True</td>\n",
       "      <td>Upper Class</td>\n",
       "      <td>Southampton</td>\n",
       "      <td>0</td>\n",
       "      <td>0</td>\n",
       "    </tr>\n",
       "    <tr>\n",
       "      <th>1</th>\n",
       "      <td>0</td>\n",
       "      <td>male</td>\n",
       "      <td>151.5500</td>\n",
       "      <td>1</td>\n",
       "      <td>True</td>\n",
       "      <td>Upper Class</td>\n",
       "      <td>Southampton</td>\n",
       "      <td>2</td>\n",
       "      <td>3</td>\n",
       "    </tr>\n",
       "    <tr>\n",
       "      <th>2</th>\n",
       "      <td>2</td>\n",
       "      <td>female</td>\n",
       "      <td>151.5500</td>\n",
       "      <td>1</td>\n",
       "      <td>False</td>\n",
       "      <td>Upper Class</td>\n",
       "      <td>Southampton</td>\n",
       "      <td>2</td>\n",
       "      <td>3</td>\n",
       "    </tr>\n",
       "    <tr>\n",
       "      <th>3</th>\n",
       "      <td>30</td>\n",
       "      <td>male</td>\n",
       "      <td>151.5500</td>\n",
       "      <td>1</td>\n",
       "      <td>False</td>\n",
       "      <td>Upper Class</td>\n",
       "      <td>Southampton</td>\n",
       "      <td>2</td>\n",
       "      <td>3</td>\n",
       "    </tr>\n",
       "    <tr>\n",
       "      <th>4</th>\n",
       "      <td>25</td>\n",
       "      <td>female</td>\n",
       "      <td>151.5500</td>\n",
       "      <td>1</td>\n",
       "      <td>False</td>\n",
       "      <td>Upper Class</td>\n",
       "      <td>Southampton</td>\n",
       "      <td>2</td>\n",
       "      <td>3</td>\n",
       "    </tr>\n",
       "  </tbody>\n",
       "</table>\n",
       "</div>"
      ],
      "text/plain": [
       "   age     sex      fare  sibsp  survived       pclass     embarked  parch  \\\n",
       "0   29  female  211.3375      0      True  Upper Class  Southampton      0   \n",
       "1    0    male  151.5500      1      True  Upper Class  Southampton      2   \n",
       "2    2  female  151.5500      1     False  Upper Class  Southampton      2   \n",
       "3   30    male  151.5500      1     False  Upper Class  Southampton      2   \n",
       "4   25  female  151.5500      1     False  Upper Class  Southampton      2   \n",
       "\n",
       "   FamilySize  \n",
       "0           0  \n",
       "1           3  \n",
       "2           3  \n",
       "3           3  \n",
       "4           3  "
      ]
     },
     "execution_count": 97,
     "metadata": {},
     "output_type": "execute_result"
    }
   ],
   "source": [
    "titanic_df.head()"
   ]
  },
  {
   "cell_type": "markdown",
   "metadata": {},
   "source": [
    "#### Grouping/Binning Ages"
   ]
  },
  {
   "cell_type": "markdown",
   "metadata": {},
   "source": [
    "To make the ages easier to analyse i thought it would be a good idea to group idea to group/bin the ages. This way we can compare groups of ages instead of individual ages."
   ]
  },
  {
   "cell_type": "code",
   "execution_count": 98,
   "metadata": {},
   "outputs": [
    {
     "data": {
      "text/plain": [
       "80"
      ]
     },
     "execution_count": 98,
     "metadata": {},
     "output_type": "execute_result"
    }
   ],
   "source": [
    "titanic_df.age.max()"
   ]
  },
  {
   "cell_type": "code",
   "execution_count": 99,
   "metadata": {
    "scrolled": true
   },
   "outputs": [],
   "source": [
    "age_labels = ['0-9', '10-19', '20-29', '30-39', '40-49', '50-59', '60-69', '70-79']\n",
    "titanic_df['age_group'] = pd.cut(titanic_df.age, range(0,81,10), right=False, labels=age_labels)"
   ]
  },
  {
   "cell_type": "code",
   "execution_count": 100,
   "metadata": {},
   "outputs": [
    {
     "data": {
      "text/html": [
       "<div>\n",
       "<style scoped>\n",
       "    .dataframe tbody tr th:only-of-type {\n",
       "        vertical-align: middle;\n",
       "    }\n",
       "\n",
       "    .dataframe tbody tr th {\n",
       "        vertical-align: top;\n",
       "    }\n",
       "\n",
       "    .dataframe thead th {\n",
       "        text-align: right;\n",
       "    }\n",
       "</style>\n",
       "<table border=\"1\" class=\"dataframe\">\n",
       "  <thead>\n",
       "    <tr style=\"text-align: right;\">\n",
       "      <th></th>\n",
       "      <th>age</th>\n",
       "      <th>sex</th>\n",
       "      <th>fare</th>\n",
       "      <th>sibsp</th>\n",
       "      <th>survived</th>\n",
       "      <th>pclass</th>\n",
       "      <th>embarked</th>\n",
       "      <th>parch</th>\n",
       "      <th>FamilySize</th>\n",
       "      <th>age_group</th>\n",
       "    </tr>\n",
       "  </thead>\n",
       "  <tbody>\n",
       "    <tr>\n",
       "      <th>0</th>\n",
       "      <td>29</td>\n",
       "      <td>female</td>\n",
       "      <td>211.3375</td>\n",
       "      <td>0</td>\n",
       "      <td>True</td>\n",
       "      <td>Upper Class</td>\n",
       "      <td>Southampton</td>\n",
       "      <td>0</td>\n",
       "      <td>0</td>\n",
       "      <td>20-29</td>\n",
       "    </tr>\n",
       "    <tr>\n",
       "      <th>1</th>\n",
       "      <td>0</td>\n",
       "      <td>male</td>\n",
       "      <td>151.5500</td>\n",
       "      <td>1</td>\n",
       "      <td>True</td>\n",
       "      <td>Upper Class</td>\n",
       "      <td>Southampton</td>\n",
       "      <td>2</td>\n",
       "      <td>3</td>\n",
       "      <td>0-9</td>\n",
       "    </tr>\n",
       "    <tr>\n",
       "      <th>2</th>\n",
       "      <td>2</td>\n",
       "      <td>female</td>\n",
       "      <td>151.5500</td>\n",
       "      <td>1</td>\n",
       "      <td>False</td>\n",
       "      <td>Upper Class</td>\n",
       "      <td>Southampton</td>\n",
       "      <td>2</td>\n",
       "      <td>3</td>\n",
       "      <td>0-9</td>\n",
       "    </tr>\n",
       "    <tr>\n",
       "      <th>3</th>\n",
       "      <td>30</td>\n",
       "      <td>male</td>\n",
       "      <td>151.5500</td>\n",
       "      <td>1</td>\n",
       "      <td>False</td>\n",
       "      <td>Upper Class</td>\n",
       "      <td>Southampton</td>\n",
       "      <td>2</td>\n",
       "      <td>3</td>\n",
       "      <td>30-39</td>\n",
       "    </tr>\n",
       "    <tr>\n",
       "      <th>4</th>\n",
       "      <td>25</td>\n",
       "      <td>female</td>\n",
       "      <td>151.5500</td>\n",
       "      <td>1</td>\n",
       "      <td>False</td>\n",
       "      <td>Upper Class</td>\n",
       "      <td>Southampton</td>\n",
       "      <td>2</td>\n",
       "      <td>3</td>\n",
       "      <td>20-29</td>\n",
       "    </tr>\n",
       "  </tbody>\n",
       "</table>\n",
       "</div>"
      ],
      "text/plain": [
       "   age     sex      fare  sibsp  survived       pclass     embarked  parch  \\\n",
       "0   29  female  211.3375      0      True  Upper Class  Southampton      0   \n",
       "1    0    male  151.5500      1      True  Upper Class  Southampton      2   \n",
       "2    2  female  151.5500      1     False  Upper Class  Southampton      2   \n",
       "3   30    male  151.5500      1     False  Upper Class  Southampton      2   \n",
       "4   25  female  151.5500      1     False  Upper Class  Southampton      2   \n",
       "\n",
       "   FamilySize age_group  \n",
       "0           0     20-29  \n",
       "1           3       0-9  \n",
       "2           3       0-9  \n",
       "3           3     30-39  \n",
       "4           3     20-29  "
      ]
     },
     "execution_count": 100,
     "metadata": {},
     "output_type": "execute_result"
    }
   ],
   "source": [
    "titanic_df.head()"
   ]
  },
  {
   "cell_type": "markdown",
   "metadata": {},
   "source": [
    "### Number of survivors"
   ]
  },
  {
   "cell_type": "markdown",
   "metadata": {},
   "source": [
    "Before trying to determine the characteristics of a passenger that would make them more likely to survive, the number of survivors in the sample should be compared to the actual number of survivors.Based on the information provided by Kaggle, there were 2224 passengers and 722 survivors."
   ]
  },
  {
   "cell_type": "code",
   "execution_count": 101,
   "metadata": {},
   "outputs": [],
   "source": [
    "def as_percent(val, precision='0.2'):\n",
    "    \"\"\"Convert Number to percentage string.\"\"\"\n",
    "    if isinstance(val, Number):\n",
    "        return \"{{:{}%}}\".format(precision).format(val)\n",
    "    else:\n",
    "        raise TypeError(\"Numeric type required\")\n",
    "        \n",
    "def calculate_percentage(val, total, format_percent = False):\n",
    "    \"\"\"Calculates the percentage of a value\"\"\"\n",
    "    percent = np.divide(val, total, dtype=float)\n",
    "    if format_percent:\n",
    "        percent = as_percent(percent)\n",
    "       \n",
    "    return percent"
   ]
  },
  {
   "cell_type": "code",
   "execution_count": 102,
   "metadata": {},
   "outputs": [
    {
     "data": {
      "text/html": [
       "<table border=\"1\" cellpadding=\"3\" cellspacing=\"0\"  style=\"border:black; border-collapse:collapse;\"><tr><td  style=\"border-left: 1px solid;border-right: 1px solid;border-top: 1px solid;border-bottom: 1px solid;\">Item</td><td  style=\"border-left: 1px solid;border-right: 1px solid;border-top: 1px solid;border-bottom: 1px solid;\">Kaggle(Count)</td><td  style=\"border-left: 1px solid;border-right: 1px solid;border-top: 1px solid;border-bottom: 1px solid;\">Kaggle(%)</td><td  style=\"border-left: 1px solid;border-right: 1px solid;border-top: 1px solid;border-bottom: 1px solid;\">Sample&nbsp;Dataset&nbsp;(Count)</td><td  style=\"border-left: 1px solid;border-right: 1px solid;border-top: 1px solid;border-bottom: 1px solid;\">Sample&nbsp;Dataset&nbsp;(%)</td></tr><tr><td  style=\"border-left: 1px solid;border-right: 1px solid;border-top: 1px solid;border-bottom: 1px solid;\">Total&nbsp;Passengers</td><td  style=\"border-left: 1px solid;border-right: 1px solid;border-top: 1px solid;border-bottom: 1px solid;\">2224</td><td  style=\"border-left: 1px solid;border-right: 1px solid;border-top: 1px solid;border-bottom: 1px solid;\">-</td><td  style=\"border-left: 1px solid;border-right: 1px solid;border-top: 1px solid;border-bottom: 1px solid;\">1106</td><td  style=\"border-left: 1px solid;border-right: 1px solid;border-top: 1px solid;border-bottom: 1px solid;\">-</td></tr><tr><td  style=\"border-left: 1px solid;border-right: 1px solid;border-top: 1px solid;border-bottom: 1px solid;\">Survivors</td><td  style=\"border-left: 1px solid;border-right: 1px solid;border-top: 1px solid;border-bottom: 1px solid;\">722</td><td  style=\"border-left: 1px solid;border-right: 1px solid;border-top: 1px solid;border-bottom: 1px solid;\">32.46%</td><td  style=\"border-left: 1px solid;border-right: 1px solid;border-top: 1px solid;border-bottom: 1px solid;\">464</td><td  style=\"border-left: 1px solid;border-right: 1px solid;border-top: 1px solid;border-bottom: 1px solid;\">41.95%</td></tr><tr><td  style=\"border-left: 1px solid;border-right: 1px solid;border-top: 1px solid;border-bottom: 1px solid;\">Non-survivors</td><td  style=\"border-left: 1px solid;border-right: 1px solid;border-top: 1px solid;border-bottom: 1px solid;\">1502</td><td  style=\"border-left: 1px solid;border-right: 1px solid;border-top: 1px solid;border-bottom: 1px solid;\">67.54%</td><td  style=\"border-left: 1px solid;border-right: 1px solid;border-top: 1px solid;border-bottom: 1px solid;\">642</td><td  style=\"border-left: 1px solid;border-right: 1px solid;border-top: 1px solid;border-bottom: 1px solid;\">58.05%</td></tr></table>"
      ],
      "text/plain": [
       "<ipy_table.ipy_table.IpyTable at 0xde6dccedc8>"
      ]
     },
     "execution_count": 102,
     "metadata": {},
     "output_type": "execute_result"
    }
   ],
   "source": [
    "# passengers and number of survivors based on Kaggle's result\n",
    "kaggle_passengers = 2224\n",
    "kaggle_survivors = 722\n",
    "kaggle_nonsurvivors = kaggle_passengers - kaggle_survivors\n",
    "\n",
    "# Count number of passengers and survivors in sample data\n",
    "sample_passengers = len(titanic_df)\n",
    "sample_survivors = len(titanic_df[titanic_df.survived == True])\n",
    "sample_nonsurvivors = sample_passengers - sample_survivors\n",
    "\n",
    "\n",
    "survivors_data = titanic_df[titanic_df.survived == True]\n",
    "nonsurvivors_data = titanic_df[titanic_df.survived == False]\n",
    "\n",
    "survivors = [\n",
    "    ['Item', 'Kaggle(Count)', 'Kaggle(%)', 'Sample Dataset (Count)', 'Sample Dataset (%)'],\n",
    "    ['Total Passengers', kaggle_passengers, '-', sample_passengers, '-'],\n",
    "    ['Survivors', kaggle_survivors, calculate_percentage(kaggle_survivors, kaggle_passengers, True),\n",
    "     \n",
    "                  sample_survivors, calculate_percentage(sample_survivors, sample_passengers, True)],\n",
    "    \n",
    "    ['Non-survivors', kaggle_nonsurvivors, calculate_percentage(kaggle_nonsurvivors, kaggle_passengers, True),\n",
    "     \n",
    "                      sample_nonsurvivors, calculate_percentage(sample_nonsurvivors, sample_passengers, True)]\n",
    "    \n",
    "             ]\n",
    "\n",
    "tbl.make_table(survivors)"
   ]
  },
  {
   "cell_type": "markdown",
   "metadata": {},
   "source": [
    "When comparing the number of survivors from the sample data to the actual number of survivors, we can see that there's a little gap but it can be written that the percentage of survivors is relatively close to eachother."
   ]
  },
  {
   "cell_type": "markdown",
   "metadata": {},
   "source": [
    "### Which gender had a better chance of survival?"
   ]
  },
  {
   "cell_type": "markdown",
   "metadata": {},
   "source": [
    "In order to answer this question, we need to know how many males and females were on board and which gender had the highest survival rate."
   ]
  },
  {
   "cell_type": "markdown",
   "metadata": {},
   "source": [
    "#### Hypothesis"
   ]
  },
  {
   "cell_type": "markdown",
   "metadata": {},
   "source": [
    "The hypothesis for this question is that gender impacts the chances of survival<br><br>\n",
    "H0 = Gender has no impact on ability to survival<br>\n",
    "H1 = Gender has impact on the ability to survive"
   ]
  },
  {
   "cell_type": "markdown",
   "metadata": {},
   "source": [
    "#### Count of suvivors by gender"
   ]
  },
  {
   "cell_type": "code",
   "execution_count": 103,
   "metadata": {},
   "outputs": [
    {
     "name": "stdout",
     "output_type": "stream",
     "text": [
      "sex       female  male\n",
      "survived              \n",
      "False        115   527\n",
      "True         313   151\n"
     ]
    }
   ],
   "source": [
    "table = pd.crosstab(titanic_df['survived'], titanic_df['sex'])\n",
    "print(table)"
   ]
  },
  {
   "cell_type": "markdown",
   "metadata": {},
   "source": [
    "#### Proportion of Survivors by Gender"
   ]
  },
  {
   "cell_type": "code",
   "execution_count": 104,
   "metadata": {},
   "outputs": [
    {
     "name": "stdout",
     "output_type": "stream",
     "text": [
      "sex\n",
      "female    0.731308\n",
      "male      0.222714\n",
      "Name: survived, dtype: float64\n"
     ]
    }
   ],
   "source": [
    "print(titanic_df.groupby('sex').survived.mean())"
   ]
  },
  {
   "cell_type": "code",
   "execution_count": 105,
   "metadata": {},
   "outputs": [],
   "source": [
    "plt.style.use('ggplot')"
   ]
  },
  {
   "cell_type": "code",
   "execution_count": 106,
   "metadata": {},
   "outputs": [
    {
     "data": {
      "image/png": "[encoded data removed]",
      "text/plain": [
       "<Figure size 720x360 with 2 Axes>"
      ]
     },
     "metadata": {},
     "output_type": "display_data"
    }
   ],
   "source": [
    "# calculate values for each survival status.\n",
    "survivors_gender = survivors_data.groupby('sex').size().values\n",
    "non_survivors_gender =  nonsurvivors_data.groupby('sex').size().values\n",
    "\n",
    "#calculate the total survivors by gender so as to use it to calculate percentage.\n",
    "total_survivors_gender = survivors_gender + non_survivors_gender\n",
    "\n",
    "# i'll use the calculate_percentage function defined earlier to calculate the percentage of survivors by gender.\n",
    "survivors_percentage_gender = calculate_percentage(survivors_gender, total_survivors_gender)*100\n",
    "non_survivors_percentage_gender = calculate_percentage(non_survivors_gender, total_survivors_gender)*100\n",
    "\n",
    "\n",
    "gender_categories = ['Female', 'Male']\n",
    "\n",
    "# create a figure in which the charts/graphs will be placed in.\n",
    "fig1, (ax1, ax2) = plt.subplots(1, 2, figsize=(10,5))\n",
    "\n",
    "#plot chart for count of survivors by gender.\n",
    "ax1.bar(range(len(survivors_gender)), survivors_gender, label='Survivors', alpha=.9, color='blue')\n",
    "\n",
    "ax1.bar(range(len(non_survivors_gender)), non_survivors_gender, \n",
    "        bottom=survivors_gender, label='Non-Survivors', alpha=.9, color='red')\n",
    "plt.sca(ax1)\n",
    "plt.xticks([0.0, 1.0], labels=gender_categories)\n",
    "#for x,y in zip()\n",
    "#plt.annotate(label, )\n",
    "ax1.set_ylabel('Count')\n",
    "ax1.set_xlabel(\"\")\n",
    "ax1.set_title(\"Count of survivors by gender\", fontsize=14)\n",
    "plt.legend(loc='upper left');\n",
    "\n",
    "\n",
    "#plot chart for percentage of survivors by gender.\n",
    "ax2.bar(range(len(survivors_percentage_gender)), survivors_percentage_gender, alpha=.9, color='blue')\n",
    "\n",
    "ax2.bar(range(len(non_survivors_percentage_gender)), non_survivors_percentage_gender, \n",
    "        bottom=survivors_percentage_gender, label='Non-Survivors', alpha=.9, color='red')\n",
    "plt.sca(ax2)\n",
    "plt.xticks([0.0, 1.0], labels=gender_categories)\n",
    "ax2.set_ylabel('Percentage')\n",
    "ax2.set_xlabel(\"\")\n",
    "ax2.set_title(\"% of survivors by gender\", fontsize=14);"
   ]
  },
  {
   "cell_type": "markdown",
   "metadata": {},
   "source": [
    "The first plot above show that there were significantly more men than women on board the Titanic. The second plot(% survivors by gender) shows that Females had a higher proprtion(73.13%) of survivors compared to the proportion of Males(22.3%). This shows that females had a higher rate of survival."
   ]
  },
  {
   "cell_type": "code",
   "execution_count": 107,
   "metadata": {},
   "outputs": [
    {
     "data": {
      "text/html": [
       "<table border=\"1\" cellpadding=\"3\" cellspacing=\"0\"  style=\"border:black; border-collapse:collapse;\"><tr><td  style=\"border-left: 1px solid;border-right: 1px solid;border-top: 1px solid;border-bottom: 1px solid;\">Item</td><td  style=\"border-left: 1px solid;border-right: 1px solid;border-top: 1px solid;border-bottom: 1px solid;\">Value</td></tr><tr><td  style=\"border-left: 1px solid;border-right: 1px solid;border-top: 1px solid;border-bottom: 1px solid;\">Chi-Square&nbsp;Test</td><td  style=\"border-left: 1px solid;border-right: 1px solid;border-top: 1px solid;border-bottom: 1px solid;\">276.6039</td></tr><tr><td  style=\"border-left: 1px solid;border-right: 1px solid;border-top: 1px solid;border-bottom: 1px solid;\">P-Value</td><td  style=\"border-left: 1px solid;border-right: 1px solid;border-top: 1px solid;border-bottom: 1px solid;\">0.0000</td></tr></table>"
      ],
      "text/plain": [
       "<ipy_table.ipy_table.IpyTable at 0xde686051c8>"
      ]
     },
     "execution_count": 107,
     "metadata": {},
     "output_type": "execute_result"
    }
   ],
   "source": [
    "table = pd.crosstab([titanic_df['survived']], titanic_df['sex'])\n",
    "chi2, p, dof, expected = stats.chi2_contingency(table.values)\n",
    "results = [\n",
    "           ['Item', 'Value'], \n",
    "           ['Chi-Square Test', chi2], \n",
    "           ['P-Value', p]\n",
    "          ]\n",
    "tbl.make_table(results)"
   ]
  },
  {
   "cell_type": "markdown",
   "metadata": {},
   "source": [
    "As the P-Value is less than 0.05, the probability that the gender will impact the chances of survival is high. Therefore we can neglect the null hypothesis, the plots above confirm this result."
   ]
  },
  {
   "cell_type": "markdown",
   "metadata": {},
   "source": [
    "### Which social class had a better chance of survival?"
   ]
  },
  {
   "cell_type": "markdown",
   "metadata": {},
   "source": [
    "#### Hypothesis"
   ]
  },
  {
   "cell_type": "markdown",
   "metadata": {},
   "source": [
    "The hypothesis for this question is that class affects the chances of survival <br><br>\n",
    "H0 = Social Class has no impact on survivability<br>\n",
    "H1 = Social Class has impact on survivability"
   ]
  },
  {
   "cell_type": "markdown",
   "metadata": {},
   "source": [
    "#### Count of Survival by class"
   ]
  },
  {
   "cell_type": "code",
   "execution_count": 108,
   "metadata": {},
   "outputs": [
    {
     "name": "stdout",
     "output_type": "stream",
     "text": [
      "pclass    Lower Class  Middle Class  Upper Class\n",
      "survived                                        \n",
      "False             399           128          115\n",
      "True              154           111          199\n"
     ]
    }
   ],
   "source": [
    "table = pd.crosstab(titanic_df['survived'], titanic_df['pclass'])\n",
    "print(table)"
   ]
  },
  {
   "cell_type": "markdown",
   "metadata": {},
   "source": [
    "#### Proportion of survivors by class"
   ]
  },
  {
   "cell_type": "code",
   "execution_count": 109,
   "metadata": {},
   "outputs": [
    {
     "name": "stdout",
     "output_type": "stream",
     "text": [
      "pclass\n",
      "Lower Class     0.278481\n",
      "Middle Class    0.464435\n",
      "Upper Class     0.633758\n",
      "Name: survived, dtype: float64\n"
     ]
    }
   ],
   "source": [
    "print(titanic_df.groupby('pclass').survived.mean())"
   ]
  },
  {
   "cell_type": "code",
   "execution_count": 110,
   "metadata": {},
   "outputs": [
    {
     "data": {
      "image/png": "[encoded data removed]",
      "text/plain": [
       "<Figure size 720x360 with 2 Axes>"
      ]
     },
     "metadata": {},
     "output_type": "display_data"
    }
   ],
   "source": [
    "# calculate value for each survival class\n",
    "survivors_class = survivors_data.groupby('pclass').size().values\n",
    "non_survivors_class = nonsurvivors_data.groupby('pclass').size().values\n",
    "\n",
    "# calculate total survivors \n",
    "total_survivors_class = survivors_class + non_survivors_class\n",
    "\n",
    "survivors_percentage_class = calculate_percentage(survivors_class, total_survivors_class)*100\n",
    "non_survivors_percentage_class = calculate_percentage(non_survivors_class, total_survivors_class)*100\n",
    "\n",
    "class_categories = ['Lower Class', 'Middle Class', 'Upper Class']\n",
    "\n",
    "# create a figure in which the charts/graphs will be placed in.\n",
    "fig2, (ax1, ax2) = plt.subplots(1, 2, figsize=(10,5))\n",
    "\n",
    "# plot chart for count of survivors by class\n",
    "ax1.bar(x=range(len(survivors_class)), height=survivors_class, label='Survivors', alpha=.9, color='blue')\n",
    "ax1.bar(range(len(non_survivors_class)), non_survivors_class, label='Non-Survivors', alpha=.9, \n",
    "        bottom=survivors_class, color='red')\n",
    "plt.sca(ax1)\n",
    "plt.xticks([0.0, 1.0, 2.0], class_categories)\n",
    "\n",
    "ax1.set_ylabel(\"Count\")\n",
    "ax1.set_xlabel(\"\")\n",
    "ax1.set_title(\"Count of survivors by class\", fontsize=14)\n",
    "plt.legend(loc='upper right');\n",
    "\n",
    "#Adding Text to the survivor bars which is the lower part of each bar\n",
    "ax1.text(-0.1, 50, survivors_class[0])\n",
    "ax1.text(0.9,50 , survivors_class[1])\n",
    "ax1.text(1.9, 50, survivors_class[2])\n",
    "\n",
    "#Adding Text to the non survivors bars which is the upper part of each bar\n",
    "ax1.text(-0.1, 300, non_survivors_class[0])\n",
    "ax1.text(0.9,180 , non_survivors_class[1])\n",
    "ax1.text(1.9, 250, non_survivors_class[2])\n",
    "\n",
    "\n",
    "# plot chart for percentage of survivors by class\n",
    "ax2.bar(range(len(survivors_percentage_class)), survivors_percentage_class, label='Survivors', alpha=.9, color='blue')\n",
    "ax2.bar(range(len(non_survivors_percentage_class)), non_survivors_percentage_class, label='Non-Survivors', alpha=.9, \n",
    "        bottom=survivors_percentage_class, color='red')\n",
    "plt.sca(ax2)\n",
    "plt.xticks([0.0, 1.0, 2.0], class_categories)\n",
    "ax2.set_ylabel(\"Percentage\")\n",
    "ax2.set_xlabel(\"\")\n",
    "ax2.set_title(\"Percentage(%) of survivors by class\", fontsize=14);\n",
    "\n",
    "#ax = plt.gca()\n",
    "#ax.axes.yaxis.set_ticklabels()\n",
    "#plt.tick_params('y', labelsize=0, length=0)\n",
    "\n",
    "#Adding text to the percentage chart survivors by class\n",
    "ax2.text(-0.1, 14, round(survivors_percentage[0], 2))\n",
    "ax2.text(0.9,28 , round(survivors_percentage[1], 2))\n",
    "ax2.text(1.9, 40, round(survivors_percentage[2], 2))\n",
    "\n",
    "ax2.text(-0.1, 50, round(non_survivors_percentage[0], 2))\n",
    "ax2.text(0.9,70 , round(non_survivors_percentage[1], 2))\n",
    "ax2.text(1.9, 80, round(non_survivors_percentage[2], 2));"
   ]
  },
  {
   "cell_type": "markdown",
   "metadata": {},
   "source": [
    "The graphs above tells that while the Lower Class had more passengers than all classes and more survivors than the Middle Class, the Lower Class had the lowest survival rate(by percentage)."
   ]
  },
  {
   "cell_type": "code",
   "execution_count": 111,
   "metadata": {},
   "outputs": [
    {
     "data": {
      "text/html": [
       "<table border=\"1\" cellpadding=\"3\" cellspacing=\"0\"  style=\"border:black; border-collapse:collapse;\"><tr><td  style=\"border-left: 1px solid;border-right: 1px solid;border-top: 1px solid;border-bottom: 1px solid;\">Item</td><td  style=\"border-left: 1px solid;border-right: 1px solid;border-top: 1px solid;border-bottom: 1px solid;\">Value</td></tr><tr><td  style=\"border-left: 1px solid;border-right: 1px solid;border-top: 1px solid;border-bottom: 1px solid;\">Chhi-Square&nbsp;Test</td><td  style=\"border-left: 1px solid;border-right: 1px solid;border-top: 1px solid;border-bottom: 1px solid;\">106.3316</td></tr><tr><td  style=\"border-left: 1px solid;border-right: 1px solid;border-top: 1px solid;border-bottom: 1px solid;\">P-Value</td><td  style=\"border-left: 1px solid;border-right: 1px solid;border-top: 1px solid;border-bottom: 1px solid;\">0.0000</td></tr></table>"
      ],
      "text/plain": [
       "<ipy_table.ipy_table.IpyTable at 0xde6f7b7d88>"
      ]
     },
     "execution_count": 111,
     "metadata": {},
     "output_type": "execute_result"
    }
   ],
   "source": [
    "table = pd.crosstab([titanic_df['survived']], titanic_df['pclass'])\n",
    "chi2, p, dof, expected = stats.chi2_contingency(table.values)\n",
    "results = [\n",
    "           ['Item', 'Value'], \n",
    "           ['Chhi-Square Test', chi2], \n",
    "           ['P-Value', p]\n",
    "         ]\n",
    "tbl.make_table(results)"
   ]
  },
  {
   "cell_type": "markdown",
   "metadata": {},
   "source": [
    "As the P-Value is less than 0.05, the probability that the social class will impact the chances of survival is high. Therefore we can reject the null hypothesis. I think the plots above confirm the result."
   ]
  },
  {
   "cell_type": "markdown",
   "metadata": {},
   "source": [
    "### Which Age Group had a better chance of survival?"
   ]
  },
  {
   "cell_type": "markdown",
   "metadata": {},
   "source": [
    "#### Hypothesis"
   ]
  },
  {
   "cell_type": "markdown",
   "metadata": {},
   "source": [
    "The hypothesis for this question is that age group affects the chances of survival<br><br>\n",
    "H0 = Age Group has no impact on survival chances\n",
    "H1 = Age Group does have an impact on chances of survival"
   ]
  },
  {
   "cell_type": "markdown",
   "metadata": {},
   "source": [
    "#### Distribution of Age Groups"
   ]
  },
  {
   "cell_type": "code",
   "execution_count": 112,
   "metadata": {},
   "outputs": [
    {
     "data": {
      "image/png": "[encoded data removed]",
      "text/plain": [
       "<Figure size 432x288 with 1 Axes>"
      ]
     },
     "metadata": {},
     "output_type": "display_data"
    }
   ],
   "source": [
    "titanic_df.groupby('age_group').size().plot(kind='bar', stacked=True)\n",
    "plt.title(\"Distribution of Age Groups\", fontsize=14)\n",
    "plt.tick_params('y', labelsize=0, length=0)\n",
    "\n",
    "for i, v in enumerate(titanic_df.groupby('age_group').size().values):\n",
    "    plt.text(i-0.2, v, v, fontsize=12)\n",
    "plt.ylabel('Count')\n",
    "plt.xlabel('Age Group');"
   ]
  },
  {
   "cell_type": "markdown",
   "metadata": {},
   "source": [
    "From the plot above we can see that the majority of passengers are aged between 20-29"
   ]
  },
  {
   "cell_type": "markdown",
   "metadata": {},
   "source": [
    "#### Proportion of survival by age group"
   ]
  },
  {
   "cell_type": "code",
   "execution_count": 113,
   "metadata": {
    "scrolled": true
   },
   "outputs": [
    {
     "name": "stdout",
     "output_type": "stream",
     "text": [
      "age_group\n",
      "0-9      0.604938\n",
      "10-19    0.421053\n",
      "20-29    0.387244\n",
      "30-39    0.439252\n",
      "40-49    0.396947\n",
      "50-59    0.449275\n",
      "60-69    0.322581\n",
      "70-79    0.142857\n",
      "Name: survived, dtype: float64\n"
     ]
    }
   ],
   "source": [
    "print(titanic_df.groupby('age_group').survived.mean())"
   ]
  },
  {
   "cell_type": "code",
   "execution_count": 114,
   "metadata": {},
   "outputs": [
    {
     "data": {
      "image/png": "[encoded data removed]",
      "text/plain": [
       "<Figure size 792x360 with 2 Axes>"
      ]
     },
     "metadata": {},
     "output_type": "display_data"
    }
   ],
   "source": [
    "# calculate value for each survival status\n",
    "survivors_age_group = survivors_data.groupby('age_group').size().values\n",
    "non_survivors_age_group = nonsurvivors_data.groupby('age_group').size().values\n",
    "\n",
    "#calculate totals for percentages\n",
    "totals = survivors_age_group + non_survivors_age_group\n",
    "\n",
    "# use calculate_percentage_function to calculate percentage of the total\n",
    "survivors_percentage = calculate_percentage(survivors_age_group, totals)*100\n",
    "non_survivors_percentage = calculate_percentage(non_survivors_age_group, totals)*100\n",
    "\n",
    "tick_spacing = np.array(range(len(age_labels)))\n",
    "\n",
    "fig4, (ax1, ax2) = plt.subplots(1,2 , figsize=(11,5))\n",
    "ax1.bar(x=range(len(survivors_age_group)), height=survivors_age_group, label='Survivors', alpha=.9, color='blue')\n",
    "ax1.bar(range(len(non_survivors_age_group)), non_survivors_age_group, label='Non-Survivors', alpha=.9, \n",
    "        bottom=survivors_age_group, color='red')\n",
    "\n",
    "plt.sca(ax1)\n",
    "plt.xticks(tick_spacing, age_labels)\n",
    "\n",
    "ax1.set_ylabel(\"Count\")\n",
    "ax1.set_xlabel(\"Age Group\")\n",
    "ax1.set_title(\"Count of survivors by age_group\", fontsize=14)\n",
    "plt.legend(loc='upper right');\n",
    "\n",
    "ax2.bar(range(len(survivors_percentage)), survivors_percentage, label='Survivors', alpha=.9, color='blue')\n",
    "ax2.bar(range(len(non_survivors_percentage)), non_survivors_percentage, label='Non-Survivors', alpha=.9, \n",
    "        bottom=survivors_percentage, color='red')\n",
    "plt.sca(ax2)\n",
    "plt.xticks(tick_spacing, age_labels)\n",
    "ax2.set_ylabel(\"Percentage\")\n",
    "ax2.set_xlabel(\"Age Group\")\n",
    "ax2.set_title(\"Percentage(%) of survivors by age_group\", fontsize=14);"
   ]
  },
  {
   "cell_type": "markdown",
   "metadata": {},
   "source": [
    "Looking at the Proportion(Count) and Percentage of survivors by age group, i think this analysis should be take into consideration the gender/sex of the passenger as well."
   ]
  },
  {
   "cell_type": "code",
   "execution_count": 115,
   "metadata": {},
   "outputs": [
    {
     "name": "stdout",
     "output_type": "stream",
     "text": [
      "sex     age_group\n",
      "female  0-9          0.631579\n",
      "        10-19        0.734375\n",
      "        20-29        0.675000\n",
      "        30-39        0.783133\n",
      "        40-49        0.782609\n",
      "        50-59        0.923077\n",
      "        60-69        0.800000\n",
      "        70-79        1.000000\n",
      "male    0-9          0.581395\n",
      "        10-19        0.130435\n",
      "        20-29        0.222222\n",
      "        30-39        0.221374\n",
      "        40-49        0.188235\n",
      "        50-59        0.162791\n",
      "        60-69        0.095238\n",
      "        70-79        0.000000\n",
      "Name: survived, dtype: float64\n"
     ]
    }
   ],
   "source": [
    "print(titanic_df.groupby(['sex', 'age_group']).survived.mean())"
   ]
  },
  {
   "cell_type": "code",
   "execution_count": 116,
   "metadata": {},
   "outputs": [
    {
     "data": {
      "image/png": "[encoded data removed]",
      "text/plain": [
       "<Figure size 432x288 with 1 Axes>"
      ]
     },
     "metadata": {},
     "output_type": "display_data"
    }
   ],
   "source": [
    "male_data = titanic_df[titanic_df.sex == 'male'].groupby('age_group').survived.mean().values\n",
    "female_data = titanic_df[titanic_df.sex == 'female'].groupby('age_group').survived.mean().values\n",
    "\n",
    "ax = plt.subplot()\n",
    "male_plt_position = np.array(range(len(age_labels)))\n",
    "female_plt_position = np.array(range(len(age_labels)))+0.4\n",
    "ax.bar(male_plt_position, male_data, width=0.4, label='Male', color='blue')\n",
    "ax.bar(female_plt_position, female_data, width=0.4, label='Female', color='red')\n",
    "plt.xticks(tick_spacing, age_labels)\n",
    "ax.set_ylabel(\"Proportion\")\n",
    "ax.set_xlabel(\"Age Group\")\n",
    "ax.set_title(\"Proportion of survivors by age group / Gender\", fontsize=14)\n",
    "plt.legend(loc='best')\n",
    "plt.show()"
   ]
  },
  {
   "cell_type": "markdown",
   "metadata": {},
   "source": [
    "After relooking at the proportion of survivors by age group and gender, the data supports the notion of women and children to be given preferential treatment over men. The plot \"Proportion of survivors by age group/Gender\", shows that children(0-9 years old male and female) and women(all ages) had a much higher proportion of survivors. This supports the notion of the seats in the lifeboats been given to Women and Children first."
   ]
  },
  {
   "cell_type": "code",
   "execution_count": 117,
   "metadata": {},
   "outputs": [
    {
     "data": {
      "text/html": [
       "<table border=\"1\" cellpadding=\"3\" cellspacing=\"0\"  style=\"border:black; border-collapse:collapse;\"><tr><td  style=\"border-left: 1px solid;border-right: 1px solid;border-top: 1px solid;border-bottom: 1px solid;\">Item</td><td  style=\"border-left: 1px solid;border-right: 1px solid;border-top: 1px solid;border-bottom: 1px solid;\">Value</td></tr><tr><td  style=\"border-left: 1px solid;border-right: 1px solid;border-top: 1px solid;border-bottom: 1px solid;\">Chhi-Square&nbsp;Test</td><td  style=\"border-left: 1px solid;border-right: 1px solid;border-top: 1px solid;border-bottom: 1px solid;\">17.5830</td></tr><tr><td  style=\"border-left: 1px solid;border-right: 1px solid;border-top: 1px solid;border-bottom: 1px solid;\">P-Value</td><td  style=\"border-left: 1px solid;border-right: 1px solid;border-top: 1px solid;border-bottom: 1px solid;\">0.0140</td></tr></table>"
      ],
      "text/plain": [
       "<ipy_table.ipy_table.IpyTable at 0xde6f86d6c8>"
      ]
     },
     "execution_count": 117,
     "metadata": {},
     "output_type": "execute_result"
    }
   ],
   "source": [
    "table = pd.crosstab([titanic_df['survived']], titanic_df['age_group'])\n",
    "chi2, p, dof, expected = stats.chi2_contingency(table.values)\n",
    "results = [\n",
    "           ['Item', 'Value'], \n",
    "           ['Chhi-Square Test', chi2], \n",
    "           ['P-Value', p]\n",
    "         ]\n",
    "tbl.make_table(results)"
   ]
  },
  {
   "cell_type": "markdown",
   "metadata": {},
   "source": [
    "As the P-Value is less than 0.05 the probability that the age group will impact the chances of survival is high. Therefore, we can neglect the null hypothesis."
   ]
  },
  {
   "cell_type": "markdown",
   "metadata": {},
   "source": [
    "### Conclusion"
   ]
  },
  {
   "cell_type": "markdown",
   "metadata": {},
   "source": [
    "#### Limitations of dataset"
   ]
  },
  {
   "cell_type": "markdown",
   "metadata": {},
   "source": [
    "There are a number of limitations with the Titanic Dataset, which are caused by\n",
    "<li>missing data</li>\n",
    "<li>The data is a sample of the population</li>"
   ]
  },
  {
   "cell_type": "markdown",
   "metadata": {},
   "source": [
    "##### Missing Ages"
   ]
  },
  {
   "cell_type": "code",
   "execution_count": 118,
   "metadata": {},
   "outputs": [
    {
     "name": "stdout",
     "output_type": "stream",
     "text": [
      "sex\n",
      "female     78\n",
      "male      185\n",
      "dtype: int64\n"
     ]
    }
   ],
   "source": [
    "print(missing_ages.groupby('sex').size())"
   ]
  },
  {
   "cell_type": "markdown",
   "metadata": {},
   "source": [
    "The above shows that there were 78 ages missing for females and 185 ages missing for males. I handled this by filling the missing ages with the mean of all the ages in the sample data which like everything else has Pros and Cons."
   ]
  },
  {
   "cell_type": "markdown",
   "metadata": {},
   "source": [
    "##### Data size"
   ]
  },
  {
   "cell_type": "markdown",
   "metadata": {},
   "source": [
    "The size of the sample data could also impact the results as we don't know if there is a random sample or if the selection of the data is biased or unbiased"
   ]
  },
  {
   "cell_type": "markdown",
   "metadata": {},
   "source": [
    "# DASHBOARD"
   ]
  },
  {
   "cell_type": "code",
   "execution_count": 146,
   "metadata": {},
   "outputs": [
    {
     "data": {
      "image/png": "[encoded data removed]",
      "text/plain": [
       "<Figure size 936x1080 with 5 Axes>"
      ]
     },
     "metadata": {},
     "output_type": "display_data"
    }
   ],
   "source": [
    "fig = plt.figure(0, figsize=(13,15))\n",
    "ax1 = plt.subplot2grid((3  , 3), (0, 0), colspan=1)\n",
    "#plot chart for count of survivors by gender.\n",
    "ax1.bar(range(len(survivors_gender)), survivors_gender, label='Survivors', alpha=.9, color='blue')\n",
    "\n",
    "ax1.bar(range(len(non_survivors_gender)), non_survivors_gender, \n",
    "        bottom=survivors_gender, label='Non-Survivors', alpha=.9, color='red')\n",
    "plt.sca(ax1)\n",
    "plt.xticks([0.0, 1.0], labels=gender_categories)\n",
    "ax1.set_ylabel('Count')\n",
    "ax1.set_xlabel(\"\")\n",
    "ax1.set_title(\"Count of survivors by gender\", fontsize=14)\n",
    "plt.legend(loc='upper left');\n",
    "\n",
    "\n",
    "#plot chart for percentage of survivors by gender.\n",
    "ax2 = plt.subplot2grid((3, 3), (0, 1), colspan=1)\n",
    "ax2.bar(range(len(survivors_percentage_gender)), survivors_percentage_gender, alpha=.9, color='blue')\n",
    "\n",
    "ax2.bar(range(len(non_survivors_percentage_gender)), non_survivors_percentage_gender, \n",
    "        bottom=survivors_percentage_gender, label='Non-Survivors', alpha=.9, color='red')\n",
    "plt.sca(ax2)\n",
    "plt.xticks([0.0, 1.0], labels=gender_categories)\n",
    "ax2.set_ylabel('Percentage')\n",
    "ax2.set_xlabel(\"\")\n",
    "ax2.set_title(\"% of survivors by gender\", fontsize=14);\n",
    "\n",
    "ax3 = plt.subplot2grid((3, 3), (0,2), colspan=1)\n",
    "ax3.bar(x=range(len(survivors_class)), height=survivors_class, label='Survivors', alpha=.9, color='blue')\n",
    "ax3.bar(range(len(non_survivors_class)), non_survivors_class, label='Non-Survivors', alpha=.9, \n",
    "        bottom=survivors_class, color='red')\n",
    "plt.sca(ax3)\n",
    "plt.xticks([0.0, 1.0, 2.0], class_categories)\n",
    "\n",
    "ax3.set_ylabel(\"Count\")\n",
    "ax3.set_xlabel(\"\")\n",
    "ax3.set_title(\"Count of survivors by class\", fontsize=14)\n",
    "plt.legend(loc='upper right');\n",
    "\n",
    "#Adding Text to the survivor bars which is the lower part of each bar\n",
    "ax3.text(-0.1, 50, survivors_class[0])\n",
    "ax3.text(0.9,50 , survivors_class[1])\n",
    "ax3.text(1.9, 50, survivors_class[2])\n",
    "\n",
    "#Adding Text to the non survivors bars which is the upper part of each bar\n",
    "ax3.text(-0.1, 300, non_survivors_class[0])\n",
    "ax3.text(0.9,180 , non_survivors_class[1])\n",
    "ax3.text(1.9, 250, non_survivors_class[2])\n",
    "\n",
    "\n",
    "ax5 = plt.subplot2grid((3, 3), (1,0), colspan=1)\n",
    "ax5.bar(range(len(survivors_percentage_class)), survivors_percentage_class, label='Survivors', alpha=.9, color='blue')\n",
    "ax5.bar(range(len(non_survivors_percentage_class)), non_survivors_percentage_class, label='Non-Survivors', alpha=.9, \n",
    "        bottom=survivors_percentage_class, color='red')\n",
    "plt.sca(ax5)\n",
    "plt.xticks([0.0, 1.0, 2.0], class_categories)\n",
    "ax5.set_ylabel(\"Percentage\")\n",
    "ax5.set_xlabel(\"\")\n",
    "ax5.set_title(\"Percentage(%) of survivors by class\", fontsize=14);\n",
    "\n",
    "ax5.text(-0.1, 14, round(survivors_percentage[0], 2))\n",
    "ax5.text(0.9,28 , round(survivors_percentage[1], 2))\n",
    "ax5.text(1.9, 40, round(survivors_percentage[2], 2))\n",
    "\n",
    "ax5.text(-0.1, 50, round(non_survivors_percentage[0], 2))\n",
    "ax5.text(0.9,70 , round(non_survivors_percentage[1], 2))\n",
    "ax5.text(1.9, 80, round(non_survivors_percentage[2], 2));\n",
    "\n",
    "\n",
    "ax6 = plt.subplot2grid((3, 3), (1,1), colspan=2)\n",
    "ax6.bar(male_plt_position, male_data, width=0.4, label='Male', color='blue')\n",
    "ax6.bar(female_plt_position, female_data, width=0.4, label='Female', color='red')\n",
    "plt.xticks(tick_spacing, age_labels)\n",
    "ax6.set_ylabel(\"Proportion\")\n",
    "ax6.set_xlabel(\"Age Group\")\n",
    "ax6.set_title(\"Proportion of survivors by age group / Gender\", fontsize=14)\n",
    "plt.legend(loc='best');\n",
    "\n",
    "#fig.tight_layout(pad=6.0)\n",
    "fig.suptitle(\"Plots for the Titanic Survival\", fontsize=20, y=0.93);"
   ]
  },
  {
   "cell_type": "code",
   "execution_count": 149,
   "metadata": {},
   "outputs": [],
   "source": [
    "fig.savefig(\"Titanic Data Analysis\")"
   ]
  },
  {
   "cell_type": "code",
   "execution_count": null,
   "metadata": {},
   "outputs": [],
   "source": []
  }
 ],
 "metadata": {
  "kernelspec": {
   "display_name": "Python 3",
   "language": "python",
   "name": "python3"
  },
  "language_info": {
   "codemirror_mode": {
    "name": "ipython",
    "version": 3
   },
   "file_extension": ".py",
   "mimetype": "text/x-python",
   "name": "python",
   "nbconvert_exporter": "python",
   "pygments_lexer": "ipython3",
   "version": "3.7.6"
  }
 },
 "nbformat": 4,
 "nbformat_minor": 4
}
